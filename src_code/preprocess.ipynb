{
 "cells": [
  {
   "cell_type": "code",
   "execution_count": 23,
   "id": "077398a6",
   "metadata": {},
   "outputs": [],
   "source": [
    "# import numpy as np\n",
    "# import soundfile as sf\n",
    "\n",
    "# # 定义参数\n",
    "# input_file = \"irenie_merge_final_01.wav\" # 输入文件名\n",
    "# output_file = \"tmp_output.wav\" # 输出文件名\n",
    "# threshold = 0.1 # 阈值，声音低于该值的片段将被剪切\n",
    "# min_silence_duration = 2 # 最小的沉默时长（以秒为单位），如果低于该值，则不进行剪切\n",
    "# sample_rate = 44100 # 采样率\n",
    "\n",
    "# # 读取音频文件\n",
    "# data, sr = sf.read(input_file)\n",
    "\n",
    "# # 计算音频文件中每个样本的能量值\n",
    "# energy = np.sum(np.abs(data) ** 2, axis=1)\n",
    "\n",
    "# # 根据阈值将音频分割成片段\n",
    "# segments = np.split(data, np.where(energy > threshold)[0])\n",
    "\n",
    "# # 根据最小的沉默时长剪切片段\n",
    "# new_segments = []\n",
    "# for segment in segments:\n",
    "#     if len(segment) > min_silence_duration * sample_rate:\n",
    "#         new_segments.append(segment)\n",
    "\n",
    "# # 合并所有有效的片段\n",
    "# output_data = np.concatenate(new_segments)\n",
    "\n",
    "# # 将结果保存到输出文件中\n",
    "# sf.write(output_file, output_data, sample_rate)\n"
   ]
  },
  {
   "cell_type": "code",
   "execution_count": 24,
   "id": "92cf9d23",
   "metadata": {},
   "outputs": [],
   "source": [
    "import subprocess\n",
    "import wave\n",
    "import matplotlib.pyplot as plt\n",
    "\n",
    "def visualize(path: str,sil=None):\n",
    "    raw = wave.open(path)\n",
    "    signal = raw.readframes(-1)\n",
    "    signal = np.frombuffer(signal, dtype =\"int16\")\n",
    "    f_rate = raw.getframerate()\n",
    "    time = np.linspace(\n",
    "        0, # start\n",
    "        len(signal) / f_rate/2,\n",
    "        num = len(signal)\n",
    "    )\n",
    "    print(len(signal), f_rate)\n",
    "    plt.figure(1)\n",
    "    plt.title(\"Sound Wave\")\n",
    "    plt.xlabel(\"Time\")\n",
    "    plt.plot(time, signal)\n",
    "    if sil:\n",
    "        for i in sil:\n",
    "            plt.axvline(x=i[0], color='red') \n",
    "            plt.axvline(x=i[1], color='red')\n",
    "    plt.show()"
   ]
  },
  {
   "cell_type": "code",
   "execution_count": 32,
   "id": "2b11bc31",
   "metadata": {},
   "outputs": [
    {
     "name": "stdout",
     "output_type": "stream",
     "text": [
      "ffmpeg -i output1.wav -af silencedetect=n=-23dB:d=2 -f null -\n",
      "[(48.222, 51.1827), (72.2417, 75.5985)]\n",
      "14111990 44100\n"
     ]
    },
    {
     "data": {
      "image/png": "[encoded data removed]",
      "text/plain": [
       "<Figure size 432x288 with 1 Axes>"
      ]
     },
     "metadata": {
      "needs_background": "light"
     },
     "output_type": "display_data"
    }
   ],
   "source": [
    "def detect_silence(path,time):\n",
    "    '''\n",
    "    This function is a python wrapper to run the ffmpeg command in python and extranct the desired output\n",
    "    \n",
    "    path= Audio file path\n",
    "    time = silence time threshold\n",
    "    \n",
    "    returns = list of tuples with start and end point of silences\n",
    "    \n",
    "    '''\n",
    "    command=\"ffmpeg -i \"+path+\" -af silencedetect=n=-23dB:d=\"+str(time)+\" -f null -\"\n",
    "    out = subprocess.Popen(command, stdout=subprocess.PIPE, stderr=subprocess.STDOUT)\n",
    "    stdout, stderr = out.communicate()\n",
    "    s=stdout.decode(\"utf-8\")\n",
    "    k=s.split('[silencedetect @')\n",
    "    if len(k)==1:\n",
    "        #print(stderr)\n",
    "        return None\n",
    "        \n",
    "    start,end=[],[]\n",
    "    for i in range(1,len(k)):\n",
    "        x=k[i].split(']')[1]\n",
    "        if i%2==0:\n",
    "            x=x.split('|')[0]\n",
    "            x=x.split(':')[1].strip()\n",
    "            end.append(float(x))\n",
    "        else:\n",
    "            x=x.split(':')[1]\n",
    "            x=x.split('size')[0]\n",
    "            x=x.replace('\\r','')\n",
    "            x=x.replace('\\n','').strip()\n",
    "            start.append(float(x))\n",
    "    print(command)\n",
    "    return list(zip(start,end))\n",
    "\n",
    "file = 'output1.wav'\n",
    "lst=detect_silence(file,2)\n",
    "print(lst)\n",
    "if lst:\n",
    "    visualize(file,lst)"
   ]
  },
  {
   "cell_type": "code",
   "execution_count": 27,
   "id": "110e871c",
   "metadata": {},
   "outputs": [
    {
     "name": "stderr",
     "output_type": "stream",
     "text": [
      "ffmpeg version 4.2.3 Copyright (c) 2000-2020 the FFmpeg developers\n",
      "  built with gcc 9.3.1 (GCC) 20200523\n",
      "  configuration: --enable-gpl --enable-version3 --enable-sdl2 --enable-fontconfig --enable-gnutls --enable-iconv --enable-libass --enable-libdav1d --enable-libbluray --enable-libfreetype --enable-libmp3lame --enable-libopencore-amrnb --enable-libopencore-amrwb --enable-libopenjpeg --enable-libopus --enable-libshine --enable-libsnappy --enable-libsoxr --enable-libtheora --enable-libtwolame --enable-libvpx --enable-libwavpack --enable-libwebp --enable-libx264 --enable-libx265 --enable-libxml2 --enable-libzimg --enable-lzma --enable-zlib --enable-gmp --enable-libvidstab --enable-libvorbis --enable-libvo-amrwbenc --enable-libmysofa --enable-libspeex --enable-libxvid --enable-libaom --enable-libmfx --enable-amf --enable-ffnvcodec --enable-cuvid --enable-d3d11va --enable-nvenc --enable-nvdec --enable-dxva2 --enable-avisynth --enable-libopenmpt\n",
      "  libavutil      56. 31.100 / 56. 31.100\n",
      "  libavcodec     58. 54.100 / 58. 54.100\n",
      "  libavformat    58. 29.100 / 58. 29.100\n",
      "  libavdevice    58.  8.100 / 58.  8.100\n",
      "  libavfilter     7. 57.100 /  7. 57.100\n",
      "  libswscale      5.  5.100 /  5.  5.100\n",
      "  libswresample   3.  5.100 /  3.  5.100\n",
      "  libpostproc    55.  5.100 / 55.  5.100\n",
      "Guessed Channel Layout for Input Stream #0.0 : stereo\n",
      "Input #0, wav, from 'irenie_merge_final_01.wav':\n",
      "  Duration: 00:04:00.00, bitrate: 1411 kb/s\n",
      "    Stream #0:0: Audio: pcm_s16le ([1][0][0][0] / 0x0001), 44100 Hz, stereo, s16, 1411 kb/s\n",
      "Stream mapping:\n",
      "  Stream #0:0 -> #0:0 (pcm_s16le (native) -> pcm_s16le (native))\n",
      "Press [q] to stop, [?] for help\n",
      "Output #0, null, to 'pipe:':\n",
      "  Metadata:\n",
      "    encoder         : Lavf58.29.100\n",
      "    Stream #0:0: Audio: pcm_s16le, 44100 Hz, stereo, s16, 1411 kb/s\n",
      "    Metadata:\n",
      "      encoder         : Lavc58.54.100 pcm_s16le\n",
      "size=N/A time=00:02:39.99 bitrate=N/A speed= 846x    \n",
      "video:0kB audio:27562kB subtitle:0kB other streams:0kB global headers:0kB muxing overhead: unknown\n"
     ]
    }
   ],
   "source": [
    "!ffmpeg -i irenie_merge_final_01.wav -af silenceremove=stop_periods=-1:stop_duration=5:stop_threshold=-23dB -f null -\n"
   ]
  },
  {
   "cell_type": "code",
   "execution_count": null,
   "id": "e5cf4209",
   "metadata": {},
   "outputs": [],
   "source": []
  }
 ],
 "metadata": {
  "kernelspec": {
   "display_name": "Python 3 (ipykernel)",
   "language": "python",
   "name": "python3"
  },
  "language_info": {
   "codemirror_mode": {
    "name": "ipython",
    "version": 3
   },
   "file_extension": ".py",
   "mimetype": "text/x-python",
   "name": "python",
   "nbconvert_exporter": "python",
   "pygments_lexer": "ipython3",
   "version": "3.8.3"
  }
 },
 "nbformat": 4,
 "nbformat_minor": 5
}
